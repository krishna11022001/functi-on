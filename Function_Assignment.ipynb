{
  "nbformat": 4,
  "nbformat_minor": 0,
  "metadata": {
    "colab": {
      "provenance": []
    },
    "kernelspec": {
      "name": "python3",
      "display_name": "Python 3"
    },
    "language_info": {
      "name": "python"
    }
  },
  "cells": [
    {
      "cell_type": "markdown",
      "source": [
        "1. What is the difference between a function and a method in Python?\n",
        " - In Python, a function is a standalone block of code, while a **method** is a function defined inside a class and called on an object. Methods use self to access the instance, whereas functions do not. and also, def using outside the class but in method def using inside the class.\n",
        "2. Explain the concept of function arguments and parameters in Python?\n",
        " - The concept of function argument means fixed parameter not be changed like 'def func(\"Krishna\")'. but the function parameter means variables which can be changed by definiation like 'def func(\"name\")'.\n",
        "3. What are the different ways to define and call a function in Python?\n",
        " - In Python, functions are defined using def and can have default parameters, variable positional arguments args, or keyword arguments kwargs. You can also create simple anonymous functions using lambda. When calling functions, you can pass arguments by position, by keyword, or unpack them from lists and dictionaries using `*` and `**`.\n",
        "4.  What is the purpose of the `return` statement in a Python function?\n",
        " - The `return` statement sends a result back from a function so you can use it later. It stops the function and gives back a value. Without `return`, the function gives back nothing.\n",
        "5.  What are iterators in Python and how do they differ from iterables?\n",
        " - Iterators in python is an object representing a stream of data and return the data one by one. and it is different from iterables because iterable is capacable of returning its member one at a time.\n",
        "6.  Explain the concept of generators in Python and how they are defined?\n",
        " - Generators in python are simple way to iterators by using yield instead of return keywords.\n",
        "7. What are the advantages of using generators over regular functions?\n",
        " - The advantage of using generators over regular function is that execute one by one by yield statement in a simple way by using next() function.\n",
        "8. What is a lambda function in Python and when is it typically used?\n",
        " - Lambda function in python are small, ananymous function defined using the lambda keywords.\n",
        "9. Explain the purpose and usage of the `map()` function in Python?\n",
        " - map() function in python are inbuild function in python which executes a specified function for each of item of an iterable.\n",
        "10.  What is the difference between `map()`, `reduce()`, and `filter()` functions in Python?\n",
        " - The map() function applies a given function to every item in a collection and returns a new iterable with the results. The filter() function uses a function that returns True or False to select only those items from the iterable that meet a certain condition. reduce(), which is part of the functools module, repeatedly applies a function to combine all items in an iterable into a single cumulative value.\n",
        "11. Using pen & Paper write the internal mechanism for sum operation using  reduce function on this given\n",
        "list:[47,11,42,13]?\n",
        " - list : [47, 11, 42, 13]\n",
        "    reduce(lambda x: x,y, list)\n",
        "\n",
        "\n",
        "\n"
      ],
      "metadata": {
        "id": "8CzJkFfu6qUb"
      }
    },
    {
      "cell_type": "markdown",
      "source": [
        "Practical Questions:"
      ],
      "metadata": {
        "id": "p1Mv0xF3K9io"
      }
    },
    {
      "cell_type": "markdown",
      "source": [
        "1. Write a Python function that takes a list of numbers as input and returns the sum of all even numbers in\n",
        "the list.\n"
      ],
      "metadata": {
        "id": "wcHuscelLEu-"
      }
    },
    {
      "cell_type": "code",
      "source": [
        "def sum_even_numbers(numbers):\n",
        "    total = 0\n",
        "    for num in numbers:\n",
        "        if num % 2 == 0:\n",
        "            total += num\n",
        "    return total\n",
        "my_list = [1, 2, 3, 4, 5, 6]\n",
        "result = sum_even_numbers(my_list)\n",
        "print(\"Sum of even numbers:\", result)\n",
        "\n",
        "\n"
      ],
      "metadata": {
        "colab": {
          "base_uri": "https://localhost:8080/"
        },
        "id": "mVbZclxtN77h",
        "outputId": "b0b9b94c-3d2c-4416-bf85-3274fa6e4ad0"
      },
      "execution_count": 40,
      "outputs": [
        {
          "output_type": "stream",
          "name": "stdout",
          "text": [
            "Sum of even numbers: 12\n"
          ]
        }
      ]
    },
    {
      "cell_type": "markdown",
      "source": [
        "2. Create a Python function that accepts a string and returns the reverse of that string."
      ],
      "metadata": {
        "id": "ml852KkhQ3eb"
      }
    },
    {
      "cell_type": "code",
      "source": [
        "def reverse(l):\n",
        "  return l[::-1]\n",
        "l = \"PWSKILL\"\n",
        "reverse(l)"
      ],
      "metadata": {
        "colab": {
          "base_uri": "https://localhost:8080/",
          "height": 35
        },
        "id": "1VuIucgVRCjO",
        "outputId": "ebd872a6-7da1-48eb-a523-d6590d8d1ab5"
      },
      "execution_count": 47,
      "outputs": [
        {
          "output_type": "execute_result",
          "data": {
            "text/plain": [
              "'LLIKSWP'"
            ],
            "application/vnd.google.colaboratory.intrinsic+json": {
              "type": "string"
            }
          },
          "metadata": {},
          "execution_count": 47
        }
      ]
    },
    {
      "cell_type": "markdown",
      "source": [
        "3. Implement a Python function that takes a list of integers and returns a new list containing the squares of\n",
        "each number."
      ],
      "metadata": {
        "id": "bvpmAuh_Wue9"
      }
    },
    {
      "cell_type": "code",
      "source": [
        "l = [1, 2, 3, 4, 5, 6]\n",
        "list(map(lambda x: x**2, l))"
      ],
      "metadata": {
        "colab": {
          "base_uri": "https://localhost:8080/"
        },
        "id": "tXuJppSfWBjZ",
        "outputId": "d8f7e62a-a209-49d0-cd3f-a053cae5fb51"
      },
      "execution_count": 53,
      "outputs": [
        {
          "output_type": "execute_result",
          "data": {
            "text/plain": [
              "[1, 4, 9, 16, 25, 36]"
            ]
          },
          "metadata": {},
          "execution_count": 53
        }
      ]
    },
    {
      "cell_type": "markdown",
      "source": [
        "4. Write a Python function that checks if a given number is prime or not from 1 to 200?"
      ],
      "metadata": {
        "id": "HgvMKMeZXIAB"
      }
    },
    {
      "cell_type": "code",
      "source": [
        "def prime(n):\n",
        "    if n <= 1 or n > 200:\n",
        "        return False\n",
        "    for i in range(2, n):\n",
        "        if n % i == 0:\n",
        "            return False\n",
        "    return True\n",
        "prime(5)\n",
        "\n"
      ],
      "metadata": {
        "colab": {
          "base_uri": "https://localhost:8080/"
        },
        "id": "tAGHCEHsXFWx",
        "outputId": "6eba91f8-1953-4def-adce-f7a9c9919d3c"
      },
      "execution_count": 56,
      "outputs": [
        {
          "output_type": "execute_result",
          "data": {
            "text/plain": [
              "True"
            ]
          },
          "metadata": {},
          "execution_count": 56
        }
      ]
    },
    {
      "cell_type": "code",
      "source": [
        "prime(10)\n"
      ],
      "metadata": {
        "colab": {
          "base_uri": "https://localhost:8080/"
        },
        "id": "TQhhvANcZ6xQ",
        "outputId": "f0f6b3da-329d-49cf-e6fb-f185092ff178"
      },
      "execution_count": 57,
      "outputs": [
        {
          "output_type": "execute_result",
          "data": {
            "text/plain": [
              "False"
            ]
          },
          "metadata": {},
          "execution_count": 57
        }
      ]
    },
    {
      "cell_type": "code",
      "source": [
        "prime(11)"
      ],
      "metadata": {
        "colab": {
          "base_uri": "https://localhost:8080/"
        },
        "id": "FxnDQ6gkxGWa",
        "outputId": "6e3bb367-606c-46c5-f623-69d4c7e1ef66"
      },
      "execution_count": 58,
      "outputs": [
        {
          "output_type": "execute_result",
          "data": {
            "text/plain": [
              "True"
            ]
          },
          "metadata": {},
          "execution_count": 58
        }
      ]
    },
    {
      "cell_type": "code",
      "source": [],
      "metadata": {
        "id": "Wln-sCVXxJOZ"
      },
      "execution_count": null,
      "outputs": []
    },
    {
      "cell_type": "markdown",
      "source": [
        "5.Create an iterator class in Python that generates the Fibonacci sequence up to a specified number of terms?"
      ],
      "metadata": {
        "id": "Ro9jmWoIxKIS"
      }
    },
    {
      "cell_type": "code",
      "source": [
        "def fib(n):\n",
        "  a = 0\n",
        "  b = 1\n",
        "  for i in range(n):\n",
        "    yield a\n",
        "    a,b = b, a+b\n",
        "fib(6)"
      ],
      "metadata": {
        "colab": {
          "base_uri": "https://localhost:8080/"
        },
        "id": "pUOgXPQKxRPh",
        "outputId": "0373b8a8-a993-46a4-8b9e-717f420e120a"
      },
      "execution_count": 62,
      "outputs": [
        {
          "output_type": "execute_result",
          "data": {
            "text/plain": [
              "<generator object fib at 0x7c12c670eb60>"
            ]
          },
          "metadata": {},
          "execution_count": 62
        }
      ]
    },
    {
      "cell_type": "code",
      "source": [
        "f = fib(6)\n",
        "f\n",
        "next(f)"
      ],
      "metadata": {
        "colab": {
          "base_uri": "https://localhost:8080/"
        },
        "id": "MTNDn46TxxcS",
        "outputId": "cda35863-bb0e-4696-80b1-8eddaf96d0c6"
      },
      "execution_count": 63,
      "outputs": [
        {
          "output_type": "execute_result",
          "data": {
            "text/plain": [
              "0"
            ]
          },
          "metadata": {},
          "execution_count": 63
        }
      ]
    },
    {
      "cell_type": "code",
      "source": [
        "next(f)"
      ],
      "metadata": {
        "colab": {
          "base_uri": "https://localhost:8080/"
        },
        "id": "Kt2XUSHiyrlC",
        "outputId": "3d9e16a8-43aa-42ed-b24b-07a156eb50f6"
      },
      "execution_count": 64,
      "outputs": [
        {
          "output_type": "execute_result",
          "data": {
            "text/plain": [
              "1"
            ]
          },
          "metadata": {},
          "execution_count": 64
        }
      ]
    },
    {
      "cell_type": "code",
      "source": [
        "next(f)"
      ],
      "metadata": {
        "colab": {
          "base_uri": "https://localhost:8080/"
        },
        "id": "4Gg812oByvoK",
        "outputId": "8beeb66b-2b10-4bc6-f3db-1ce1a11a21c4"
      },
      "execution_count": 65,
      "outputs": [
        {
          "output_type": "execute_result",
          "data": {
            "text/plain": [
              "1"
            ]
          },
          "metadata": {},
          "execution_count": 65
        }
      ]
    },
    {
      "cell_type": "code",
      "source": [
        "next(f)"
      ],
      "metadata": {
        "colab": {
          "base_uri": "https://localhost:8080/"
        },
        "id": "Nj44gQ_8yyRy",
        "outputId": "2eba57a5-b646-46db-eec9-58cbb6f4f880"
      },
      "execution_count": 66,
      "outputs": [
        {
          "output_type": "execute_result",
          "data": {
            "text/plain": [
              "2"
            ]
          },
          "metadata": {},
          "execution_count": 66
        }
      ]
    },
    {
      "cell_type": "code",
      "source": [
        "next(f)"
      ],
      "metadata": {
        "colab": {
          "base_uri": "https://localhost:8080/"
        },
        "id": "u0edBxPqyzTp",
        "outputId": "e03e9495-fb1b-4ea1-edc3-8f0ba882da98"
      },
      "execution_count": 67,
      "outputs": [
        {
          "output_type": "execute_result",
          "data": {
            "text/plain": [
              "3"
            ]
          },
          "metadata": {},
          "execution_count": 67
        }
      ]
    },
    {
      "cell_type": "code",
      "source": [
        "next(f)"
      ],
      "metadata": {
        "colab": {
          "base_uri": "https://localhost:8080/"
        },
        "id": "HotpNDnpy0J5",
        "outputId": "cc2538dc-e01f-4e73-819e-615ee233bc9c"
      },
      "execution_count": 68,
      "outputs": [
        {
          "output_type": "execute_result",
          "data": {
            "text/plain": [
              "5"
            ]
          },
          "metadata": {},
          "execution_count": 68
        }
      ]
    },
    {
      "cell_type": "markdown",
      "source": [
        "6. Write a generator function in Python that yields the powers of 2 up to a given exponent?"
      ],
      "metadata": {
        "id": "HF2hruFvy3BT"
      }
    },
    {
      "cell_type": "code",
      "source": [
        "def square(n):\n",
        "  for i in range(n):\n",
        "    yield i**2\n",
        "square(5)"
      ],
      "metadata": {
        "colab": {
          "base_uri": "https://localhost:8080/"
        },
        "id": "Ld7HFRcoy1rj",
        "outputId": "ca33d040-4895-40b6-b77e-969c10fc0b83"
      },
      "execution_count": 70,
      "outputs": [
        {
          "output_type": "execute_result",
          "data": {
            "text/plain": [
              "<generator object square at 0x7c12c64c92f0>"
            ]
          },
          "metadata": {},
          "execution_count": 70
        }
      ]
    },
    {
      "cell_type": "code",
      "source": [
        "s = square(5)\n",
        "next(s)"
      ],
      "metadata": {
        "colab": {
          "base_uri": "https://localhost:8080/"
        },
        "id": "14v0FHVJzW9j",
        "outputId": "89a7c052-f2a6-4f40-8611-d7ed9d6e062e"
      },
      "execution_count": 72,
      "outputs": [
        {
          "output_type": "execute_result",
          "data": {
            "text/plain": [
              "0"
            ]
          },
          "metadata": {},
          "execution_count": 72
        }
      ]
    },
    {
      "cell_type": "code",
      "source": [
        "next(s)"
      ],
      "metadata": {
        "colab": {
          "base_uri": "https://localhost:8080/"
        },
        "id": "TjLTXxVMzcsr",
        "outputId": "4fb3f700-88b6-41ee-e95a-fa08d441925b"
      },
      "execution_count": 73,
      "outputs": [
        {
          "output_type": "execute_result",
          "data": {
            "text/plain": [
              "1"
            ]
          },
          "metadata": {},
          "execution_count": 73
        }
      ]
    },
    {
      "cell_type": "code",
      "source": [
        "next(s)"
      ],
      "metadata": {
        "colab": {
          "base_uri": "https://localhost:8080/"
        },
        "id": "fxT9QiD0zicS",
        "outputId": "7c93f7b9-b53c-4007-925a-ea10a6d36cfe"
      },
      "execution_count": 74,
      "outputs": [
        {
          "output_type": "execute_result",
          "data": {
            "text/plain": [
              "4"
            ]
          },
          "metadata": {},
          "execution_count": 74
        }
      ]
    },
    {
      "cell_type": "code",
      "source": [
        "next(s)"
      ],
      "metadata": {
        "colab": {
          "base_uri": "https://localhost:8080/"
        },
        "id": "ecTIyzZ9zjYr",
        "outputId": "92f75745-78f4-41e5-bf73-885ab25741d7"
      },
      "execution_count": 75,
      "outputs": [
        {
          "output_type": "execute_result",
          "data": {
            "text/plain": [
              "9"
            ]
          },
          "metadata": {},
          "execution_count": 75
        }
      ]
    },
    {
      "cell_type": "code",
      "source": [
        "next(s)"
      ],
      "metadata": {
        "colab": {
          "base_uri": "https://localhost:8080/"
        },
        "id": "k-DI9CsDzku6",
        "outputId": "4c82fd26-078e-4167-adf9-daeb23e2f853"
      },
      "execution_count": 76,
      "outputs": [
        {
          "output_type": "execute_result",
          "data": {
            "text/plain": [
              "16"
            ]
          },
          "metadata": {},
          "execution_count": 76
        }
      ]
    },
    {
      "cell_type": "markdown",
      "source": [
        "7. . Implement a generator function that reads a file line by line and yields each line as a string?"
      ],
      "metadata": {
        "id": "p6Fmv9VFzoo7"
      }
    },
    {
      "cell_type": "code",
      "source": [
        "def read_file_line_by_line(filename):\n",
        "    with open(filename, 'r') as file:\n",
        "        for line in file:\n",
        "            yield line.rstrip('\\n')\n",
        "\n",
        "\n"
      ],
      "metadata": {
        "id": "HhrUKJ97zmhq"
      },
      "execution_count": 79,
      "outputs": []
    },
    {
      "cell_type": "markdown",
      "source": [
        "8. Use a lambda function in Python to sort a list of tuples based on the second element of each tuple?"
      ],
      "metadata": {
        "id": "iGE3ELh61mxd"
      }
    },
    {
      "cell_type": "code",
      "source": [
        "my_list = [(1, 3), (4, 1), (5, 2)]\n",
        "sorted_list = sorted(my_list, key=lambda x: x[1])\n",
        "print(sorted_list)\n"
      ],
      "metadata": {
        "colab": {
          "base_uri": "https://localhost:8080/"
        },
        "id": "Ph1h34w71dmU",
        "outputId": "9569c619-1bc8-4cac-aee4-2c082032a42e"
      },
      "execution_count": 80,
      "outputs": [
        {
          "output_type": "stream",
          "name": "stdout",
          "text": [
            "[(4, 1), (5, 2), (1, 3)]\n"
          ]
        }
      ]
    },
    {
      "cell_type": "markdown",
      "source": [
        "9.  Write a Python program that uses `map()` to convert a list of temperatures from Celsius to Fahrenheit?"
      ],
      "metadata": {
        "id": "7pYNXtAo2OZ0"
      }
    },
    {
      "cell_type": "code",
      "source": [
        "c = [9]\n",
        "list(map(lambda x: (x*18)+12, c))\n"
      ],
      "metadata": {
        "colab": {
          "base_uri": "https://localhost:8080/"
        },
        "id": "8sHAxoj22NZN",
        "outputId": "e509f04f-ddfd-4fc9-b8f8-a66af1216d99"
      },
      "execution_count": 82,
      "outputs": [
        {
          "output_type": "execute_result",
          "data": {
            "text/plain": [
              "[174]"
            ]
          },
          "metadata": {},
          "execution_count": 82
        }
      ]
    },
    {
      "cell_type": "markdown",
      "source": [
        "10.  Create a Python program that uses `filter()` to remove all the vowels from a given string?"
      ],
      "metadata": {
        "id": "f0L0t1lw3SKe"
      }
    },
    {
      "cell_type": "code",
      "source": [
        "def remove_vowels(s):\n",
        "    vowels = \"aeiouAEIOU\"\n",
        "    return ''.join(filter(lambda char: char not in vowels, s))\n",
        "\n",
        "input_str = \"Hello, World!\"\n",
        "result = remove_vowels(input_str)\n",
        "print(result)\n"
      ],
      "metadata": {
        "colab": {
          "base_uri": "https://localhost:8080/"
        },
        "id": "W1MVBJGI3FeT",
        "outputId": "b0a67387-d157-4136-fc7b-7443fb195b55"
      },
      "execution_count": 88,
      "outputs": [
        {
          "output_type": "stream",
          "name": "stdout",
          "text": [
            "Hll, Wrld!\n"
          ]
        }
      ]
    },
    {
      "cell_type": "markdown",
      "source": [
        "11.  Imagine an accounting routine used in a book shop. It works on a list with sublists, which look like this:\n",
        "orders = [\n",
        "    [34587, \"Learning Python, Mark Lutz\", 4, 40.95],\n",
        "    [98762, \"Programming Python, Mark Lutz\", 5, 56.80],\n",
        "    [77226, \"Head First Python, Paul Barry\", 3, 32.95],\n",
        "    [88112, \"Einführung in Python3, Bernd Klein\", 3, 24.99]\n",
        "\n",
        "]\n",
        "\n",
        "Write a Python program, which returns a list with 2-tuples. Each tuple consists of the order number and the\n",
        "product of the price per item and the quantity. The product should be increased by 10,- € if the value of the\n",
        "order is smaller than 100,00 €.\n",
        "\n",
        "Write a Python program using lambda and map."
      ],
      "metadata": {
        "id": "VNyYTfg15M0l"
      }
    },
    {
      "cell_type": "code",
      "source": [
        "orders = [\n",
        "    [34587, \"Learning Python, Mark Lutz\", 4, 40.95],\n",
        "    [98762, \"Programming Python, Mark Lutz\", 5, 56.80],\n",
        "    [77226, \"Head First Python, Paul Barry\", 3, 32.95],\n",
        "    [88112, \"Einführung in Python3, Bernd Klein\", 3, 24.99]\n",
        "]\n",
        "\n",
        "result = list(map(\n",
        "    lambda order: (\n",
        "        order[0],\n",
        "        round(order[2] * order[3] + (10 if order[2] * order[3] < 100 else 0), 2)\n",
        "    ),\n",
        "    orders\n",
        "))\n",
        "\n",
        "print(result)\n"
      ],
      "metadata": {
        "colab": {
          "base_uri": "https://localhost:8080/"
        },
        "id": "3P_aceSX36_F",
        "outputId": "1985c139-37c0-4e1b-b910-1c96d2ab46ac"
      },
      "execution_count": 89,
      "outputs": [
        {
          "output_type": "stream",
          "name": "stdout",
          "text": [
            "[(34587, 163.8), (98762, 284.0), (77226, 108.85), (88112, 84.97)]\n"
          ]
        }
      ]
    },
    {
      "cell_type": "code",
      "source": [],
      "metadata": {
        "id": "ecKqfiR0NDUI"
      },
      "execution_count": null,
      "outputs": []
    }
  ]
}